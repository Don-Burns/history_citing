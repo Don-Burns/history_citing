{
 "cells": [
  {
   "cell_type": "markdown",
   "metadata": {},
   "source": [
    "Notebook to test regex pulling and print formatting of .bib files.\n",
    "The end goal is to design a programme which takes a .bib file and outputs Irish school of history style citations or even a whole bibliography."
   ]
  },
  {
   "cell_type": "code",
   "execution_count": 1,
   "metadata": {},
   "outputs": [],
   "source": [
    "# Imports\n",
    "from os.path import relpath\n",
    "import re\n",
    "import pandas as pd\n",
    "import matplotlib.pyplot as plt\n",
    "import seaborn as sb\n",
    "sb.set(style=\"whitegrid\") # for dark mode plotting"
   ]
  },
  {
   "cell_type": "code",
   "execution_count": 2,
   "metadata": {
    "scrolled": true
   },
   "outputs": [
    {
     "data": {
      "text/plain": [
       "'@article{YEARSLEY2020104819,\\ntitle = \"Biophysical models of persistent connectivity and barriers on the northern Mid-Atlantic Ridge\",\\njournal = \"Deep Sea Research Part II: Topical Studies in Oceanography\",\\nvolume = \"180\",\\npages = \"104819\",\\nyear = \"2020\",\\nnote = \"Structure and functioning of the Norwegian, Iceland, Irminger and Labrador Seas ecosystems: a comparative study\",\\nissn = \"0967-0645\",\\ndoi = \"https://doi.org/10.1016/j.dsr2.2020.104819\",\\nurl = \"http://www.sciencedirect.com/science/article/pii/S0967064519303352\",\\nauthor = \"J.M. Yearsley and D.M. Salmanidou and J. Carlsson and D. Burns and C.L. {Van Dover}\",\\nkeywords = \"Deep-sea mining, ARGO probes, Biophysical models, Larval dispersal, Mid-atlantic ridge, Connectivity, Mathematical models, Biotic barriers, Dynamical oceanography, Marine parks\",\\nabstract = \"A precautionary approach to protecting biodiversity on mid-ocean ridges, while permitting seabed mining, is to design and implement a network of areas protected from the effects of mining. Such a network should capture representative populations of vent endemic fauna within regions of connectivity and across persistent barriers, but determining where such connectivity and barriers exist is challenging. A promising approach is to use biophysical modeling to infer the spatial scale of dispersal and the positions where breaks in hydrographic connectivity occur. We use results from a deep-sea biophysical model driven by data from the global array of Argo probes for depths of 1000\\u202fm to estimate biophysical connectivity among fragmented hydrothermal vent habitats along the Mid-Atlantic Ridge, from the equator northward to the Portuguese Exclusive Economic Zone surrounding the Azores. The spatial scale of dispersal varies along the ridge axis, with median dispersal distances for planktonic larval durations (PLDs) of 75\\u202fd ranging from 67\\u202fkm to 304\\u202fkm. This scale of dispersal leads to considerable opportunities for connectivity through mid-water dispersal. A stable pattern of five regions of biophysical connectivity was obtained for PLDs of 100\\u202fd or more. Connectivity barriers between these regions can persist even when planktonic larval duration extends beyond 200\\u202fd. For a 50\\u202fd PLD, one connectivity barrier coincides with the region of the genetic hybrid zone for northern and southern vent mussel species at the Broken Spur vent field. Additional barriers suggest potential for genetic differentiation that so far has not been detected for any taxon. The locations of persistent zones of connectivity and barriers to dispersal suggest that there may be multiple biogeographic subunits along the northern Mid-Atlantic Ridge that should be taken into account in planning for effective environmental management of human activities.\"\\n}'"
      ]
     },
     "execution_count": 2,
     "metadata": {},
     "output_type": "execute_result"
    }
   ],
   "source": [
    "file_dir = relpath(\"../data/MyPaper.bib\")\n",
    "with open(file_dir) as file:\n",
    "#     print(file.read())\n",
    "#     print(type(file.read()))\n",
    "    bib = file.read()\n",
    "bib\n"
   ]
  },
  {
   "cell_type": "code",
   "execution_count": 3,
   "metadata": {},
   "outputs": [
    {
     "data": {
      "text/plain": [
       "'@article{YEARSLEY2020104819,\\ntitle = \"Biophysical models of persistent connectivity and barriers on the northern Mid-Atlantic Ridge\",\\njournal = \"Deep Sea Research Part II: Topical Studies in Oceanography\",\\nvolume = \"180\",\\npages = \"104819\",\\nyear = \"2020\",\\nnote = \"Structure and functioning of the Norwegian, Iceland, Irminger and Labrador Seas ecosystems: a comparative study\",\\nissn = \"0967-0645\",\\ndoi = \"https://doi.org/10.1016/j.dsr2.2020.104819\",\\nurl = \"http://www.sciencedirect.com/science/article/pii/S0967064519303352\",\\nauthor = \"J.M. Yearsley and D.M. Salmanidou and J. Carlsson and D. Burns and C.L. {Van Dover}\",\\nkeywords = \"Deep-sea mining, ARGO probes, Biophysical models, Larval dispersal, Mid-atlantic ridge, Connectivity, Mathematical models, Biotic barriers, Dynamical oceanography, Marine parks\",\\nabstract = \"A precautionary approach to protecting biodiversity on mid-ocean ridges, while permitting seabed mining, is to design and implement a network of areas protected from the effects of mining. Such a network should capture representative populations of vent endemic fauna within regions of connectivity and across persistent barriers, but determining where such connectivity and barriers exist is challenging. A promising approach is to use biophysical modeling to infer the spatial scale of dispersal and the positions where breaks in hydrographic connectivity occur. We use results from a deep-sea biophysical model driven by data from the global array of Argo probes for depths of 1000\\u202fm to estimate biophysical connectivity among fragmented hydrothermal vent habitats along the Mid-Atlantic Ridge, from the equator northward to the Portuguese Exclusive Economic Zone surrounding the Azores. The spatial scale of dispersal varies along the ridge axis, with median dispersal distances for planktonic larval durations (PLDs) of 75\\u202fd ranging from 67\\u202fkm to 304\\u202fkm. This scale of dispersal leads to considerable opportunities for connectivity through mid-water dispersal. A stable pattern of five regions of biophysical connectivity was obtained for PLDs of 100\\u202fd or more. Connectivity barriers between these regions can persist even when planktonic larval duration extends beyond 200\\u202fd. For a 50\\u202fd PLD, one connectivity barrier coincides with the region of the genetic hybrid zone for northern and southern vent mussel species at the Broken Spur vent field. Additional barriers suggest potential for genetic differentiation that so far has not been detected for any taxon. The locations of persistent zones of connectivity and barriers to dispersal suggest that there may be multiple biogeographic subunits along the northern Mid-Atlantic Ridge that should be taken into account in planning for effective environmental management of human activities.\"\\n}'"
      ]
     },
     "execution_count": 3,
     "metadata": {},
     "output_type": "execute_result"
    }
   ],
   "source": [
    "bib"
   ]
  },
  {
   "cell_type": "markdown",
   "metadata": {},
   "source": [
    "# Formating of .bib\n",
    "\n",
    "Entry Types\n",
    "\n",
    "<dl><dt><code>article</code></dt>\n",
    "<dd>An article from a journal or magazine.<br>Required fields: <span style=\"font-variant: small-caps;\">author, title, journal, year, volume</span><br>Optional fields: <span style=\"font-variant: small-caps;\">number, pages, month, doi, note, key</span></dd>\n",
    "<dt><code>book</code></dt>\n",
    "<dd>A book with an explicit publisher.<br>Required fields: <span style=\"font-variant: small-caps;\">author/editor, title, publisher, year</span><br>Optional fields: <span style=\"font-variant: small-caps;\">volume/number, series, address, edition, month, note, key, url</span></dd>\n",
    "<dt><code>booklet</code></dt>\n",
    "<dd>A work that is printed and bound, but without a named publisher or sponsoring institution.<br>Required fields: <span style=\"font-variant: small-caps;\">title</span><br>Optional fields: <span style=\"font-variant: small-caps;\">author, howpublished, address, month, year, note, key</span></dd>\n",
    "<dt><code>conference</code></dt>\n",
    "<dd>The same as <code>inproceedings</code>, included for <a href=\"/wiki/Scribe_(markup_language)\" title=\"Scribe (markup language)\">Scribe</a> compatibility.</dd>\n",
    "<dt><code>inbook</code></dt>\n",
    "<dd>A part of a book, usually untitled. May be a chapter (or section, etc.) and/or a range of pages.<br>Required fields: <span style=\"font-variant: small-caps;\">author/editor, title, chapter/pages, publisher, year</span><br>Optional fields: <span style=\"font-variant: small-caps;\">volume/number, series, type, address, edition, month, note, key</span></dd>\n",
    "<dt><code>incollection</code></dt>\n",
    "<dd>A part of a book having its own title.<br>Required fields: <span style=\"font-variant: small-caps;\">author, title, booktitle, publisher, year</span><br>Optional fields: <span style=\"font-variant: small-caps;\">editor, volume/number, series, type, chapter, pages, address, edition, month, note, key</span></dd>\n",
    "<dt><code>inproceedings</code></dt>\n",
    "<dd>An article in a conference proceedings.<br>Required fields: <span style=\"font-variant: small-caps;\">author, title, booktitle, year</span><br>Optional fields: <span style=\"font-variant: small-caps;\">editor, volume/number, series, pages, address, month, organization, publisher, note, key</span></dd>\n",
    "<dt><code>manual</code></dt>\n",
    "<dd>Technical documentation.<br>Required fields: <span style=\"font-variant: small-caps;\">title</span><br>Optional fields: <span style=\"font-variant: small-caps;\">author, organization, address, edition, month, year, note, key</span></dd>\n",
    "<dt><code>mastersthesis</code></dt>\n",
    "<dd>A <a href=\"/wiki/Master%27s_degree\" title=\"Master's degree\">Master's</a> <a href=\"/wiki/Thesis\" title=\"Thesis\">thesis</a>.<br>Required fields: <span style=\"font-variant: small-caps;\">author, title, school, year</span><br>Optional fields: <span style=\"font-variant: small-caps;\">type, address, month, note, key</span></dd>\n",
    "<dt><code>misc</code></dt>\n",
    "<dd>For use when nothing else fits.<br>Required fields: <span style=\"font-variant: small-caps;\">none</span><br>Optional fields: <span style=\"font-variant: small-caps;\">author, title, howpublished, month, year, note, key</span></dd>\n",
    "<dt><code>phdthesis</code></dt>\n",
    "<dd>A <a href=\"/wiki/Doctor_of_Philosophy\" title=\"Doctor of Philosophy\">Ph.D.</a> thesis.<br>Required fields: <span style=\"font-variant: small-caps;\">author, title, school, year</span><br>Optional fields: <span style=\"font-variant: small-caps;\">type, address, month, note, key</span></dd>\n",
    "<dt><code>proceedings</code></dt>\n",
    "<dd>The proceedings of a conference.<br>Required fields: <span style=\"font-variant: small-caps;\">title, year</span><br>Optional fields: <span style=\"font-variant: small-caps;\">editor, volume/number, series, address, month, publisher, organization, note, key</span></dd>\n",
    "<dt><code>techreport</code></dt>\n",
    "<dd>A report published by a school or other institution, usually numbered within a series.<br>Required fields: <span style=\"font-variant: small-caps;\">author, title, institution, year</span><br>Optional fields: <span style=\"font-variant: small-caps;\">type, number, address, month, note, key</span></dd>\n",
    "<dt><code>unpublished</code></dt>\n",
    "<dd>A document having an author and title, but not formally published.<br>Required fields: <span style=\"font-variant: small-caps;\">author, title, note</span><br>Optional fields: <span style=\"font-variant: small-caps;\">month, year, key</span></dd></dl>\n",
    "\n",
    "Field types\n",
    "\n",
    "<dl><dt><code>address</code></dt>\n",
    "<dd>Publisher's address (usually just the city, but can be the full address for lesser-known publishers)</dd>\n",
    "<dt><code>annote</code></dt>\n",
    "<dd>An annotation for annotated bibliography styles (not typical)</dd>\n",
    "<dt><code>author</code></dt>\n",
    "<dd>The name(s) of the author(s) (in the case of more than one author, separated by <code>and</code>)</dd>\n",
    "<dt><code>booktitle</code></dt>\n",
    "<dd>The title of the book, if only part of it is being cited</dd>\n",
    "<dt><code>Email</code></dt>\n",
    "<dd>The email of the author(s)</dd>\n",
    "<dt><code>chapter</code></dt>\n",
    "<dd>The chapter number</dd>\n",
    "<dt><code>crossref</code></dt>\n",
    "<dd>The key of the cross-referenced entry</dd>\n",
    "<dt><code>doi</code></dt>\n",
    "<dd>digital object identifier</dd>\n",
    "<dt><code>edition</code></dt>\n",
    "<dd>The edition of a book, long form (such as \"First\" or \"Second\")</dd>\n",
    "<dt><code>editor</code></dt>\n",
    "<dd>The name(s) of the editor(s)</dd>\n",
    "<dt><code>howpublished</code></dt>\n",
    "<dd>How it was published, if the publishing method is nonstandard</dd>\n",
    "<dt><code>institution</code></dt>\n",
    "<dd>The institution that was involved in the publishing, but not necessarily the publisher</dd>\n",
    "<dt><code>journal</code></dt>\n",
    "<dd>The journal or magazine the work was published in</dd>\n",
    "<dt><code>key</code></dt>\n",
    "<dd>A hidden field used for specifying or overriding the alphabetical order of entries (when the \"author\" and \"editor\" fields are missing).  Note that this is very different from the key (mentioned just after this list) that is used to cite or cross-reference the entry.</dd>\n",
    "<dt><code>month</code></dt>\n",
    "<dd>The month of publication (or, if unpublished, the month of creation)</dd>\n",
    "<dt><code>note</code></dt>\n",
    "<dd>Miscellaneous extra information</dd>\n",
    "<dt><code>number</code></dt>\n",
    "<dd>The \"(issue) number\" of a journal, magazine, or tech-report, if applicable. Note that this is not the \"article number\" assigned by some journals.</dd>\n",
    "<dt><code>organization</code></dt>\n",
    "<dd>The conference sponsor</dd>\n",
    "<dt><code>pages</code></dt>\n",
    "<dd>Page numbers, separated either by commas or double-hyphens.</dd>\n",
    "<dt><code>publisher</code></dt>\n",
    "<dd>The publisher's name</dd>\n",
    "<dt><code>school</code></dt>\n",
    "<dd>The school where the thesis was written</dd>\n",
    "<dt><code>series</code></dt>\n",
    "<dd>The series of books the book was published in (e.g. \"<a href=\"/wiki/The_Hardy_Boys\" title=\"The Hardy Boys\">The Hardy Boys</a>\" or \"<a href=\"/wiki/Lecture_Notes_in_Computer_Science\" title=\"Lecture Notes in Computer Science\">Lecture Notes in Computer Science</a>\")</dd>\n",
    "<dt><code>title</code></dt>\n",
    "<dd>The title of the work</dd>\n",
    "<dt><code>type</code></dt>\n",
    "<dd>The field overriding the default type of publication (e.g. \"Research Note\" for techreport, \"{PhD} dissertation\" for phdthesis, \"Section\" for inbook/incollection)</dd>\n",
    "<dt><code>volume</code></dt>\n",
    "<dd>The volume of a journal or multi-volume book</dd>\n",
    "<dt><code>year</code></dt>\n",
    "<dd>The year of publication (or, if unpublished, the year of creation)</dd></dl>\n",
    "\n",
    "\n",
    "[Source for formatting](https://en.wikipedia.org/wiki/BibTeX#Style_files)\n"
   ]
  },
  {
   "cell_type": "code",
   "execution_count": 4,
   "metadata": {},
   "outputs": [],
   "source": [
    "def clean_field(line):\n",
    "    \"\"\"\n",
    "    Finds only the content between the quote marks in each field to give clean output.\n",
    "    Arguments:\n",
    "        line (re.Match): the line containing the field string as a Match obeject from re \n",
    "        e.g. `author = \"Bob\",\\n`\n",
    "    \"\"\"\n",
    "    try:\n",
    "        clean_line = re.search(r'(\".*\")', line.group()).group()\n",
    "        clean_line = clean_line.strip('\"')\n",
    "        return clean_line\n",
    "    except:\n",
    "        return None\n",
    "\n",
    "    \n",
    "def clean_type_tag(string):\n",
    "    \"\"\"\n",
    "    Finds only the type string removing `@` and  everything post `{` to \n",
    "    give clean output in first postion.\n",
    "    Finds only the tag string removing everything before the `{` and \n",
    "    the comma to give clean outputin second postion\n",
    "    Arguments:\n",
    "        string (re.Match): the line containing the type string as a match object from `re` \n",
    "        e.g. `@article{YEARSLEY2020,`\n",
    "    \"\"\"\n",
    "    type_string, tag_string = string.split(\"{\")\n",
    "    print(f\"before cleaning{type_string, tag_string}\")\n",
    "    type_string = type_string.strip(\"@\")\n",
    "    tag_string = tag_string.strip(\",\\n\")\n",
    "    print(f\"after cleaning{type_string, tag_string}\")\n",
    "    return [type_string, tag_string]\n",
    "    \n",
    "# def clean_ref_tag(string):\n",
    "#     \"\"\"\n",
    "#     Finds only the tag string removing everything before the `{` and the comma to give clean output.\n",
    "#     Arguments:\n",
    "#         string (str): the line containing the type string e.g. `@article{YEARSLEY2020,`\n",
    "#     \"\"\"\n",
    "#     clean_type = re.match(r\"\\w*$\", string)\n",
    "\n",
    "\n",
    "class Ref:\n",
    "    def __init__(self, bib):\n",
    "        \"\"\"\n",
    "        Class with attributes of .bib files as explained \n",
    "        at `https://en.wikipedia.org/wiki/BibTeX#Style_files`.\n",
    "        \n",
    "        Arguments:\n",
    "            bib (str): the string contain a single reference in .bib format\n",
    "        \"\"\"\n",
    "        type_string, tag_string = clean_type_tag(re.search(r\"@\\w.*\\n\", bib).group())\n",
    "        self.type = type_string\n",
    "        self.tag = tag_string\n",
    "        self.address = clean_field(re.search(r\"address = .*\\n\", bib))\n",
    "        self.annote = clean_field(re.search(r\"annote = .*\\n\", bib))\n",
    "        self.author = clean_field(re.search(r\"author = .*\\n\", bib))\n",
    "        self.booktitle = clean_field(re.search(r\"booktitle = .*\\n\", bib))\n",
    "        self.chapter = clean_field(re.search(r\"chapter = .*\\n\", bib))\n",
    "        self.crossref = clean_field(re.search(r\"crossref = .*\\n\", bib))\n",
    "        self.doi = clean_field(re.search(r\"doi = .*\\n\", bib))\n",
    "        self.edition = clean_field(re.search(r\"edition = .*\\n\", bib))\n",
    "        self.editor = clean_field(re.search(r\"editor = .*\\n\", bib))\n",
    "        self.Email = clean_field(re.search(r\"Email = .*\\n\", bib))\n",
    "        self.howpublished = clean_field(re.search(r\"howpublished = .*\\n\", bib))\n",
    "        self.institution = clean_field(re.search(r\"institution = .*\\n\", bib))\n",
    "        self.issn = clean_field(re.search(r\"issn = .*\\n\", bib))\n",
    "        self.journal = clean_field(re.search(r\"journal = .*\\n\", bib))\n",
    "        self.key = clean_field(re.search(r\"key = .*\\n\", bib))\n",
    "        self.keywords = clean_field(re.search(r\"keywords = .*\\n\", bib))\n",
    "        self.month = clean_field(re.search(r\"month = .*\\n\", bib))\n",
    "        self.note = clean_field(re.search(r\"note = .*\\n\", bib))\n",
    "        self.number = clean_field(re.search(r\"number = .*\\n\", bib))\n",
    "        self.organization = clean_field(re.search(r\"organization = .*\\n\", bib))\n",
    "        self.pages = clean_field(re.search(r\"pages = .*\\n\", bib))\n",
    "        self.publisher = clean_field(re.search(r\"publisher = .*\\n\", bib))\n",
    "        self.school = clean_field(re.search(r\"school = .*\\n\", bib))\n",
    "        self.series = clean_field(re.search(r\"series = .*\\n\", bib))\n",
    "        self.title = clean_field(re.search(r\"title = .*\\n\", bib))\n",
    "        self.type = clean_field(re.search(r\"type = .*\\n\", bib))\n",
    "        self.url = clean_field(re.search(r\"url = .*\\n\", bib))\n",
    "        self.volume = clean_field(re.search(r\"volume = .*\\n\", bib))\n",
    "        self.year = clean_field(re.search(r\"year = .*\\n\", bib))\n"
   ]
  },
  {
   "cell_type": "code",
   "execution_count": null,
   "metadata": {},
   "outputs": [],
   "source": []
  },
  {
   "cell_type": "markdown",
   "metadata": {},
   "source": [
    "# Sandbox\n",
    "Area for testing"
   ]
  },
  {
   "cell_type": "code",
   "execution_count": 5,
   "metadata": {},
   "outputs": [
    {
     "ename": "AttributeError",
     "evalue": "'str' object has no attribute 'group'",
     "output_type": "error",
     "traceback": [
      "\u001b[0;31m---------------------------------------------------------------------------\u001b[0m",
      "\u001b[0;31mAttributeError\u001b[0m                            Traceback (most recent call last)",
      "\u001b[0;32m<ipython-input-5-feed282733a1>\u001b[0m in \u001b[0;36m<module>\u001b[0;34m\u001b[0m\n\u001b[1;32m      2\u001b[0m \u001b[0mtag\u001b[0m\u001b[0;34m.\u001b[0m\u001b[0msplit\u001b[0m\u001b[0;34m(\u001b[0m\u001b[0;34m\"{\"\u001b[0m\u001b[0;34m)\u001b[0m\u001b[0;34m\u001b[0m\u001b[0;34m\u001b[0m\u001b[0m\n\u001b[1;32m      3\u001b[0m \u001b[0;34m\u001b[0m\u001b[0m\n\u001b[0;32m----> 4\u001b[0;31m \u001b[0mclean_type_tag\u001b[0m\u001b[0;34m(\u001b[0m\u001b[0mre\u001b[0m\u001b[0;34m.\u001b[0m\u001b[0msearch\u001b[0m\u001b[0;34m(\u001b[0m\u001b[0;34mr\"@\\w.*\\n\"\u001b[0m\u001b[0;34m,\u001b[0m \u001b[0mbib\u001b[0m\u001b[0;34m)\u001b[0m\u001b[0;34m.\u001b[0m\u001b[0mgroup\u001b[0m\u001b[0;34m(\u001b[0m\u001b[0;34m)\u001b[0m\u001b[0;34m)\u001b[0m\u001b[0;34m[\u001b[0m\u001b[0;36m0\u001b[0m\u001b[0;34m]\u001b[0m\u001b[0;34m\u001b[0m\u001b[0;34m\u001b[0m\u001b[0m\n\u001b[0m",
      "\u001b[0;32m<ipython-input-4-b8d54e3526d5>\u001b[0m in \u001b[0;36mclean_type_tag\u001b[0;34m(string)\u001b[0m\n\u001b[1;32m     24\u001b[0m         e.g. `@article{YEARSLEY2020,`\n\u001b[1;32m     25\u001b[0m     \"\"\"\n\u001b[0;32m---> 26\u001b[0;31m     \u001b[0mtype_string\u001b[0m\u001b[0;34m,\u001b[0m \u001b[0mtag_string\u001b[0m \u001b[0;34m=\u001b[0m \u001b[0mstring\u001b[0m\u001b[0;34m.\u001b[0m\u001b[0mgroup\u001b[0m\u001b[0;34m(\u001b[0m\u001b[0;34m)\u001b[0m\u001b[0;34m.\u001b[0m\u001b[0msplit\u001b[0m\u001b[0;34m(\u001b[0m\u001b[0;34m\"{\"\u001b[0m\u001b[0;34m)\u001b[0m\u001b[0;34m\u001b[0m\u001b[0;34m\u001b[0m\u001b[0m\n\u001b[0m\u001b[1;32m     27\u001b[0m     \u001b[0mprint\u001b[0m\u001b[0;34m(\u001b[0m\u001b[0;34mf\"before cleaning{type_string, tag_string}\"\u001b[0m\u001b[0;34m)\u001b[0m\u001b[0;34m\u001b[0m\u001b[0;34m\u001b[0m\u001b[0m\n\u001b[1;32m     28\u001b[0m     \u001b[0mtype_string\u001b[0m \u001b[0;34m=\u001b[0m \u001b[0mtype_string\u001b[0m\u001b[0;34m.\u001b[0m\u001b[0mstrip\u001b[0m\u001b[0;34m(\u001b[0m\u001b[0;34m\"@\"\u001b[0m\u001b[0;34m)\u001b[0m\u001b[0;34m\u001b[0m\u001b[0;34m\u001b[0m\u001b[0m\n",
      "\u001b[0;31mAttributeError\u001b[0m: 'str' object has no attribute 'group'"
     ]
    }
   ],
   "source": [
    "tag = re.search(r\"@\\w.*\\n\", bib).group()\n",
    "tag.split(\"{\")\n",
    "\n",
    "clean_type_tag(re.search(r\"@\\w.*\\n\", bib).group())[0]"
   ]
  },
  {
   "cell_type": "code",
   "execution_count": null,
   "metadata": {},
   "outputs": [],
   "source": [
    "string = 'author = \"J.M. Yearsley and D.M. Salmanidou\" and J. Carlsson and D. Burns and C.L. {Van Dover}\",\\n'\n",
    "print(string)\n",
    "line = re.search(r'(\".*\")', string).group()\n",
    "print(line)\n",
    "clean = line.strip('\"')#re.sub(r'^\"', '', line).group()\n",
    "print(clean)"
   ]
  },
  {
   "cell_type": "code",
   "execution_count": null,
   "metadata": {},
   "outputs": [],
   "source": [
    "clean_field(string)"
   ]
  },
  {
   "cell_type": "code",
   "execution_count": null,
   "metadata": {},
   "outputs": [],
   "source": [
    "type(re.search(\"a\", bib))"
   ]
  },
  {
   "cell_type": "code",
   "execution_count": null,
   "metadata": {},
   "outputs": [],
   "source": [
    "test = Ref(bib)\n",
    "test.title\n",
    "test.journal\n",
    "test.__dict__\n"
   ]
  },
  {
   "cell_type": "code",
   "execution_count": null,
   "metadata": {},
   "outputs": [],
   "source": []
  },
  {
   "cell_type": "code",
   "execution_count": null,
   "metadata": {},
   "outputs": [],
   "source": [
    "# string = \"@article{YEARSLEY2020,\"\n",
    "string = re.search(r\"@\\w.*\\n\", bib)\n",
    "# re.split(r\"{\", string)\n",
    "type_string, tag_string = string.group().split(\"{\")\n",
    "type_string = type_string.strip(\"@\")\n",
    "tag_string = tag_string.strip(\",\\n\")\n",
    "print(type_string, tag_string)"
   ]
  },
  {
   "cell_type": "code",
   "execution_count": null,
   "metadata": {},
   "outputs": [],
   "source": [
    "print(clean_field(string))"
   ]
  },
  {
   "cell_type": "code",
   "execution_count": null,
   "metadata": {},
   "outputs": [],
   "source": [
    "type_string.strip(\"@\")"
   ]
  },
  {
   "cell_type": "code",
   "execution_count": null,
   "metadata": {},
   "outputs": [],
   "source": []
  },
  {
   "cell_type": "code",
   "execution_count": null,
   "metadata": {},
   "outputs": [],
   "source": []
  }
 ],
 "metadata": {
  "kernelspec": {
   "display_name": "Python 3",
   "language": "python",
   "name": "python3"
  },
  "language_info": {
   "codemirror_mode": {
    "name": "ipython",
    "version": 3
   },
   "file_extension": ".py",
   "mimetype": "text/x-python",
   "name": "python",
   "nbconvert_exporter": "python",
   "pygments_lexer": "ipython3",
   "version": "3.8.5"
  }
 },
 "nbformat": 4,
 "nbformat_minor": 4
}
